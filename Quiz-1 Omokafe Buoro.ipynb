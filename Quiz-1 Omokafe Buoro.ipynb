{
  "nbformat": 4,
  "nbformat_minor": 0,
  "metadata": {
    "colab": {
      "provenance": []
    },
    "kernelspec": {
      "name": "python3",
      "display_name": "Python 3"
    },
    "language_info": {
      "name": "python"
    }
  },
  "cells": [
    {
      "cell_type": "code",
      "execution_count": null,
      "metadata": {
        "id": "S5S_6gdTDS7n"
      },
      "outputs": [],
      "source": [
        "import pandas as pd\n",
        "import numpy as np"
      ]
    },
    {
      "cell_type": "code",
      "source": [
        "df = pd.read_csv('FoodBalanceSheets_E_Africa_NOFLAG.csv', encoding = \"latin-1\")\n",
        "print(df)"
      ],
      "metadata": {
        "colab": {
          "base_uri": "https://localhost:8080/"
        },
        "id": "UbS209VAI7Ix",
        "outputId": "3f1accaa-d9f7-4bc3-f729-36ee990d94eb"
      },
      "execution_count": null,
      "outputs": [
        {
          "output_type": "stream",
          "name": "stdout",
          "text": [
            "       Area Code      Area  Item Code           Item  Element Code  \\\n",
            "0              4   Algeria       2501     Population           511   \n",
            "1              4   Algeria       2501     Population          5301   \n",
            "2              4   Algeria       2901    Grand Total           664   \n",
            "3              4   Algeria       2901    Grand Total           674   \n",
            "4              4   Algeria       2901    Grand Total           684   \n",
            "...          ...       ...        ...            ...           ...   \n",
            "60938        181  Zimbabwe       2899  Miscellaneous          5142   \n",
            "60939        181  Zimbabwe       2899  Miscellaneous           645   \n",
            "60940        181  Zimbabwe       2899  Miscellaneous           664   \n",
            "60941        181  Zimbabwe       2899  Miscellaneous           674   \n",
            "60942        181  Zimbabwe       2899  Miscellaneous           684   \n",
            "\n",
            "                                      Element             Unit     Y2014  \\\n",
            "0               Total Population - Both sexes     1000 persons  38924.00   \n",
            "1                    Domestic supply quantity      1000 tonnes      0.00   \n",
            "2               Food supply (kcal/capita/day)  kcal/capita/day   3377.00   \n",
            "3      Protein supply quantity (g/capita/day)     g/capita/day     94.90   \n",
            "4          Fat supply quantity (g/capita/day)     g/capita/day     80.06   \n",
            "...                                       ...              ...       ...   \n",
            "60938                                    Food      1000 tonnes     42.00   \n",
            "60939     Food supply quantity (kg/capita/yr)               kg      3.06   \n",
            "60940           Food supply (kcal/capita/day)  kcal/capita/day      3.00   \n",
            "60941  Protein supply quantity (g/capita/day)     g/capita/day      0.10   \n",
            "60942      Fat supply quantity (g/capita/day)     g/capita/day      0.04   \n",
            "\n",
            "          Y2015     Y2016     Y2017     Y2018  \n",
            "0      39728.00  40551.00  41389.00  42228.00  \n",
            "1          0.00      0.00      0.00      0.00  \n",
            "2       3379.00   3372.00   3341.00   3322.00  \n",
            "3         94.35     94.72     92.82     91.83  \n",
            "4         79.36     77.40     80.19     77.28  \n",
            "...         ...       ...       ...       ...  \n",
            "60938     46.00     33.00     19.00     16.00  \n",
            "60939      3.33      2.35      1.33      1.08  \n",
            "60940      4.00      3.00      1.00      1.00  \n",
            "60941      0.11      0.08      0.04      0.04  \n",
            "60942      0.05      0.03      0.02      0.01  \n",
            "\n",
            "[60943 rows x 12 columns]\n"
          ]
        }
      ]
    },
    {
      "cell_type": "code",
      "source": [],
      "metadata": {
        "id": "_6gOThT3JAzm"
      },
      "execution_count": null,
      "outputs": []
    },
    {
      "cell_type": "code",
      "source": [],
      "metadata": {
        "colab": {
          "base_uri": "https://localhost:8080/"
        },
        "id": "fONWzEeXJBgB",
        "outputId": "988c7bf8-237f-4960-93f2-a20e9dc6fd34"
      },
      "execution_count": null,
      "outputs": [
        {
          "output_type": "execute_result",
          "data": {
            "text/plain": [
              "60943"
            ]
          },
          "metadata": {},
          "execution_count": 14
        }
      ]
    },
    {
      "cell_type": "code",
      "source": [
        "df.groupby('Y2015')['Y2015'].sum()"
      ],
      "metadata": {
        "colab": {
          "base_uri": "https://localhost:8080/"
        },
        "id": "sFIwjiKRJBpf",
        "outputId": "fba539ad-7c25-447d-ce58-c5d848501fac"
      },
      "execution_count": null,
      "outputs": [
        {
          "output_type": "execute_result",
          "data": {
            "text/plain": [
              "Y2015\n",
              "-3161.0       -3161.0\n",
              "-2152.0       -2152.0\n",
              "-1284.0       -1284.0\n",
              "-907.0         -907.0\n",
              "-887.0         -887.0\n",
              "               ...   \n",
              " 92443.0      92443.0\n",
              " 100835.0    100835.0\n",
              " 110798.0    110798.0\n",
              " 111663.0    111663.0\n",
              " 181137.0    181137.0\n",
              "Name: Y2015, Length: 4520, dtype: float64"
            ]
          },
          "metadata": {},
          "execution_count": 17
        }
      ]
    },
    {
      "cell_type": "code",
      "source": [],
      "metadata": {
        "id": "r4fp8hdxJB0I"
      },
      "execution_count": null,
      "outputs": []
    },
    {
      "cell_type": "code",
      "source": [
        "df.groupby('item')['Y2018'].sum()"
      ],
      "metadata": {
        "colab": {
          "base_uri": "https://localhost:8080/",
          "height": 311
        },
        "id": "IRvUfeTddLJv",
        "outputId": "db5352e7-8778-4624-d777-770a07d38483"
      },
      "execution_count": null,
      "outputs": [
        {
          "output_type": "error",
          "ename": "KeyError",
          "evalue": "ignored",
          "traceback": [
            "\u001b[0;31m---------------------------------------------------------------------------\u001b[0m",
            "\u001b[0;31mKeyError\u001b[0m                                  Traceback (most recent call last)",
            "\u001b[0;32m<ipython-input-20-93f46f322714>\u001b[0m in \u001b[0;36m<module>\u001b[0;34m\u001b[0m\n\u001b[0;32m----> 1\u001b[0;31m \u001b[0mdf\u001b[0m\u001b[0;34m.\u001b[0m\u001b[0mgroupby\u001b[0m\u001b[0;34m(\u001b[0m\u001b[0;34m'item'\u001b[0m\u001b[0;34m)\u001b[0m\u001b[0;34m[\u001b[0m\u001b[0;34m'Y2018'\u001b[0m\u001b[0;34m]\u001b[0m\u001b[0;34m.\u001b[0m\u001b[0msum\u001b[0m\u001b[0;34m(\u001b[0m\u001b[0;34m)\u001b[0m\u001b[0;34m\u001b[0m\u001b[0;34m\u001b[0m\u001b[0m\n\u001b[0m",
            "\u001b[0;32m/usr/local/lib/python3.7/dist-packages/pandas/core/frame.py\u001b[0m in \u001b[0;36mgroupby\u001b[0;34m(self, by, axis, level, as_index, sort, group_keys, squeeze, observed, dropna)\u001b[0m\n\u001b[1;32m   7639\u001b[0m             \u001b[0msqueeze\u001b[0m\u001b[0;34m=\u001b[0m\u001b[0msqueeze\u001b[0m\u001b[0;34m,\u001b[0m  \u001b[0;31m# type: ignore[arg-type]\u001b[0m\u001b[0;34m\u001b[0m\u001b[0;34m\u001b[0m\u001b[0m\n\u001b[1;32m   7640\u001b[0m             \u001b[0mobserved\u001b[0m\u001b[0;34m=\u001b[0m\u001b[0mobserved\u001b[0m\u001b[0;34m,\u001b[0m\u001b[0;34m\u001b[0m\u001b[0;34m\u001b[0m\u001b[0m\n\u001b[0;32m-> 7641\u001b[0;31m             \u001b[0mdropna\u001b[0m\u001b[0;34m=\u001b[0m\u001b[0mdropna\u001b[0m\u001b[0;34m,\u001b[0m\u001b[0;34m\u001b[0m\u001b[0;34m\u001b[0m\u001b[0m\n\u001b[0m\u001b[1;32m   7642\u001b[0m         )\n\u001b[1;32m   7643\u001b[0m \u001b[0;34m\u001b[0m\u001b[0m\n",
            "\u001b[0;32m/usr/local/lib/python3.7/dist-packages/pandas/core/groupby/groupby.py\u001b[0m in \u001b[0;36m__init__\u001b[0;34m(self, obj, keys, axis, level, grouper, exclusions, selection, as_index, sort, group_keys, squeeze, observed, mutated, dropna)\u001b[0m\n\u001b[1;32m    895\u001b[0m                 \u001b[0mobserved\u001b[0m\u001b[0;34m=\u001b[0m\u001b[0mobserved\u001b[0m\u001b[0;34m,\u001b[0m\u001b[0;34m\u001b[0m\u001b[0;34m\u001b[0m\u001b[0m\n\u001b[1;32m    896\u001b[0m                 \u001b[0mmutated\u001b[0m\u001b[0;34m=\u001b[0m\u001b[0mself\u001b[0m\u001b[0;34m.\u001b[0m\u001b[0mmutated\u001b[0m\u001b[0;34m,\u001b[0m\u001b[0;34m\u001b[0m\u001b[0;34m\u001b[0m\u001b[0m\n\u001b[0;32m--> 897\u001b[0;31m                 \u001b[0mdropna\u001b[0m\u001b[0;34m=\u001b[0m\u001b[0mself\u001b[0m\u001b[0;34m.\u001b[0m\u001b[0mdropna\u001b[0m\u001b[0;34m,\u001b[0m\u001b[0;34m\u001b[0m\u001b[0;34m\u001b[0m\u001b[0m\n\u001b[0m\u001b[1;32m    898\u001b[0m             )\n\u001b[1;32m    899\u001b[0m \u001b[0;34m\u001b[0m\u001b[0m\n",
            "\u001b[0;32m/usr/local/lib/python3.7/dist-packages/pandas/core/groupby/grouper.py\u001b[0m in \u001b[0;36mget_grouper\u001b[0;34m(obj, key, axis, level, sort, observed, mutated, validate, dropna)\u001b[0m\n\u001b[1;32m    860\u001b[0m                 \u001b[0min_axis\u001b[0m\u001b[0;34m,\u001b[0m \u001b[0mlevel\u001b[0m\u001b[0;34m,\u001b[0m \u001b[0mgpr\u001b[0m \u001b[0;34m=\u001b[0m \u001b[0;32mFalse\u001b[0m\u001b[0;34m,\u001b[0m \u001b[0mgpr\u001b[0m\u001b[0;34m,\u001b[0m \u001b[0;32mNone\u001b[0m\u001b[0;34m\u001b[0m\u001b[0;34m\u001b[0m\u001b[0m\n\u001b[1;32m    861\u001b[0m             \u001b[0;32melse\u001b[0m\u001b[0;34m:\u001b[0m\u001b[0;34m\u001b[0m\u001b[0;34m\u001b[0m\u001b[0m\n\u001b[0;32m--> 862\u001b[0;31m                 \u001b[0;32mraise\u001b[0m \u001b[0mKeyError\u001b[0m\u001b[0;34m(\u001b[0m\u001b[0mgpr\u001b[0m\u001b[0;34m)\u001b[0m\u001b[0;34m\u001b[0m\u001b[0;34m\u001b[0m\u001b[0m\n\u001b[0m\u001b[1;32m    863\u001b[0m         \u001b[0;32melif\u001b[0m \u001b[0misinstance\u001b[0m\u001b[0;34m(\u001b[0m\u001b[0mgpr\u001b[0m\u001b[0;34m,\u001b[0m \u001b[0mGrouper\u001b[0m\u001b[0;34m)\u001b[0m \u001b[0;32mand\u001b[0m \u001b[0mgpr\u001b[0m\u001b[0;34m.\u001b[0m\u001b[0mkey\u001b[0m \u001b[0;32mis\u001b[0m \u001b[0;32mnot\u001b[0m \u001b[0;32mNone\u001b[0m\u001b[0;34m:\u001b[0m\u001b[0;34m\u001b[0m\u001b[0;34m\u001b[0m\u001b[0m\n\u001b[1;32m    864\u001b[0m             \u001b[0;31m# Add key to exclusions\u001b[0m\u001b[0;34m\u001b[0m\u001b[0;34m\u001b[0m\u001b[0;34m\u001b[0m\u001b[0m\n",
            "\u001b[0;31mKeyError\u001b[0m: 'item'"
          ]
        }
      ]
    },
    {
      "cell_type": "code",
      "source": [
        "df.groupby('item')['Y2015'].sum()"
      ],
      "metadata": {
        "colab": {
          "base_uri": "https://localhost:8080/",
          "height": 311
        },
        "id": "9IRcaivJdLzE",
        "outputId": "4e2eca15-f7a4-42d6-ba96-80d671f22a87"
      },
      "execution_count": null,
      "outputs": [
        {
          "output_type": "error",
          "ename": "KeyError",
          "evalue": "ignored",
          "traceback": [
            "\u001b[0;31m---------------------------------------------------------------------------\u001b[0m",
            "\u001b[0;31mKeyError\u001b[0m                                  Traceback (most recent call last)",
            "\u001b[0;32m<ipython-input-19-b189d3e5f173>\u001b[0m in \u001b[0;36m<module>\u001b[0;34m\u001b[0m\n\u001b[0;32m----> 1\u001b[0;31m \u001b[0mdf\u001b[0m\u001b[0;34m.\u001b[0m\u001b[0mgroupby\u001b[0m\u001b[0;34m(\u001b[0m\u001b[0;34m'item'\u001b[0m\u001b[0;34m)\u001b[0m\u001b[0;34m[\u001b[0m\u001b[0;34m'Y2015'\u001b[0m\u001b[0;34m]\u001b[0m\u001b[0;34m.\u001b[0m\u001b[0msum\u001b[0m\u001b[0;34m(\u001b[0m\u001b[0;34m)\u001b[0m\u001b[0;34m\u001b[0m\u001b[0;34m\u001b[0m\u001b[0m\n\u001b[0m",
            "\u001b[0;32m/usr/local/lib/python3.7/dist-packages/pandas/core/frame.py\u001b[0m in \u001b[0;36mgroupby\u001b[0;34m(self, by, axis, level, as_index, sort, group_keys, squeeze, observed, dropna)\u001b[0m\n\u001b[1;32m   7639\u001b[0m             \u001b[0msqueeze\u001b[0m\u001b[0;34m=\u001b[0m\u001b[0msqueeze\u001b[0m\u001b[0;34m,\u001b[0m  \u001b[0;31m# type: ignore[arg-type]\u001b[0m\u001b[0;34m\u001b[0m\u001b[0;34m\u001b[0m\u001b[0m\n\u001b[1;32m   7640\u001b[0m             \u001b[0mobserved\u001b[0m\u001b[0;34m=\u001b[0m\u001b[0mobserved\u001b[0m\u001b[0;34m,\u001b[0m\u001b[0;34m\u001b[0m\u001b[0;34m\u001b[0m\u001b[0m\n\u001b[0;32m-> 7641\u001b[0;31m             \u001b[0mdropna\u001b[0m\u001b[0;34m=\u001b[0m\u001b[0mdropna\u001b[0m\u001b[0;34m,\u001b[0m\u001b[0;34m\u001b[0m\u001b[0;34m\u001b[0m\u001b[0m\n\u001b[0m\u001b[1;32m   7642\u001b[0m         )\n\u001b[1;32m   7643\u001b[0m \u001b[0;34m\u001b[0m\u001b[0m\n",
            "\u001b[0;32m/usr/local/lib/python3.7/dist-packages/pandas/core/groupby/groupby.py\u001b[0m in \u001b[0;36m__init__\u001b[0;34m(self, obj, keys, axis, level, grouper, exclusions, selection, as_index, sort, group_keys, squeeze, observed, mutated, dropna)\u001b[0m\n\u001b[1;32m    895\u001b[0m                 \u001b[0mobserved\u001b[0m\u001b[0;34m=\u001b[0m\u001b[0mobserved\u001b[0m\u001b[0;34m,\u001b[0m\u001b[0;34m\u001b[0m\u001b[0;34m\u001b[0m\u001b[0m\n\u001b[1;32m    896\u001b[0m                 \u001b[0mmutated\u001b[0m\u001b[0;34m=\u001b[0m\u001b[0mself\u001b[0m\u001b[0;34m.\u001b[0m\u001b[0mmutated\u001b[0m\u001b[0;34m,\u001b[0m\u001b[0;34m\u001b[0m\u001b[0;34m\u001b[0m\u001b[0m\n\u001b[0;32m--> 897\u001b[0;31m                 \u001b[0mdropna\u001b[0m\u001b[0;34m=\u001b[0m\u001b[0mself\u001b[0m\u001b[0;34m.\u001b[0m\u001b[0mdropna\u001b[0m\u001b[0;34m,\u001b[0m\u001b[0;34m\u001b[0m\u001b[0;34m\u001b[0m\u001b[0m\n\u001b[0m\u001b[1;32m    898\u001b[0m             )\n\u001b[1;32m    899\u001b[0m \u001b[0;34m\u001b[0m\u001b[0m\n",
            "\u001b[0;32m/usr/local/lib/python3.7/dist-packages/pandas/core/groupby/grouper.py\u001b[0m in \u001b[0;36mget_grouper\u001b[0;34m(obj, key, axis, level, sort, observed, mutated, validate, dropna)\u001b[0m\n\u001b[1;32m    860\u001b[0m                 \u001b[0min_axis\u001b[0m\u001b[0;34m,\u001b[0m \u001b[0mlevel\u001b[0m\u001b[0;34m,\u001b[0m \u001b[0mgpr\u001b[0m \u001b[0;34m=\u001b[0m \u001b[0;32mFalse\u001b[0m\u001b[0;34m,\u001b[0m \u001b[0mgpr\u001b[0m\u001b[0;34m,\u001b[0m \u001b[0;32mNone\u001b[0m\u001b[0;34m\u001b[0m\u001b[0;34m\u001b[0m\u001b[0m\n\u001b[1;32m    861\u001b[0m             \u001b[0;32melse\u001b[0m\u001b[0;34m:\u001b[0m\u001b[0;34m\u001b[0m\u001b[0;34m\u001b[0m\u001b[0m\n\u001b[0;32m--> 862\u001b[0;31m                 \u001b[0;32mraise\u001b[0m \u001b[0mKeyError\u001b[0m\u001b[0;34m(\u001b[0m\u001b[0mgpr\u001b[0m\u001b[0;34m)\u001b[0m\u001b[0;34m\u001b[0m\u001b[0;34m\u001b[0m\u001b[0m\n\u001b[0m\u001b[1;32m    863\u001b[0m         \u001b[0;32melif\u001b[0m \u001b[0misinstance\u001b[0m\u001b[0;34m(\u001b[0m\u001b[0mgpr\u001b[0m\u001b[0;34m,\u001b[0m \u001b[0mGrouper\u001b[0m\u001b[0;34m)\u001b[0m \u001b[0;32mand\u001b[0m \u001b[0mgpr\u001b[0m\u001b[0;34m.\u001b[0m\u001b[0mkey\u001b[0m \u001b[0;32mis\u001b[0m \u001b[0;32mnot\u001b[0m \u001b[0;32mNone\u001b[0m\u001b[0;34m:\u001b[0m\u001b[0;34m\u001b[0m\u001b[0;34m\u001b[0m\u001b[0m\n\u001b[1;32m    864\u001b[0m             \u001b[0;31m# Add key to exclusions\u001b[0m\u001b[0;34m\u001b[0m\u001b[0;34m\u001b[0m\u001b[0;34m\u001b[0m\u001b[0m\n",
            "\u001b[0;31mKeyError\u001b[0m: 'item'"
          ]
        }
      ]
    },
    {
      "cell_type": "code",
      "source": [
        "lst = [[35, 'Portugal', 94], [33, 'Argentina', 93], [30 , 'Brazil', 92]]\n",
        "\n",
        "col = ['Age','Nationality','Overall']"
      ],
      "metadata": {
        "id": "yKOucYjxdMAc"
      },
      "execution_count": null,
      "outputs": []
    },
    {
      "cell_type": "code",
      "source": [],
      "metadata": {
        "id": "2nt3oIYWf80b"
      },
      "execution_count": null,
      "outputs": []
    },
    {
      "cell_type": "code",
      "source": [
        "df.groupby('Element')['Element'].count()"
      ],
      "metadata": {
        "colab": {
          "base_uri": "https://localhost:8080/"
        },
        "id": "l54BThTkf9gQ",
        "outputId": "33d4d92e-d883-491f-8fe7-ed88ef6b9666"
      },
      "execution_count": null,
      "outputs": [
        {
          "output_type": "execute_result",
          "data": {
            "text/plain": [
              "Element\n",
              "Domestic supply quantity                  5295\n",
              "Export Quantity                           4403\n",
              "Fat supply quantity (g/capita/day)        5023\n",
              "Feed                                      1319\n",
              "Food                                      4941\n",
              "Food supply (kcal/capita/day)             5014\n",
              "Food supply quantity (kg/capita/yr)       4905\n",
              "Import Quantity                           5139\n",
              "Losses                                    2009\n",
              "Other uses (non-food)                     1732\n",
              "Processing                                2010\n",
              "Production                                3881\n",
              "Protein supply quantity (g/capita/day)    5023\n",
              "Residuals                                 4655\n",
              "Seed                                       762\n",
              "Stock Variation                           4232\n",
              "Total Population - Both sexes               45\n",
              "Tourist consumption                        555\n",
              "Name: Element, dtype: int64"
            ]
          },
          "metadata": {},
          "execution_count": 24
        }
      ]
    },
    {
      "cell_type": "code",
      "source": [
        "df.groupby('Area')['Area'].count()"
      ],
      "metadata": {
        "colab": {
          "base_uri": "https://localhost:8080/"
        },
        "id": "6ppDyLkXf9pU",
        "outputId": "7518dc1f-d51d-4ed3-865e-a9acf2235684"
      },
      "execution_count": null,
      "outputs": [
        {
          "output_type": "execute_result",
          "data": {
            "text/plain": [
              "Area\n",
              "Algeria                        1313\n",
              "Angola                         1424\n",
              "Benin                          1285\n",
              "Botswana                       1378\n",
              "Burkina Faso                   1409\n",
              "Cabo Verde                     1260\n",
              "Cameroon                       1460\n",
              "Central African Republic       1344\n",
              "Chad                           1343\n",
              "Comoros                          45\n",
              "Congo                          1413\n",
              "Côte d'Ivoire                  1467\n",
              "Djibouti                       1095\n",
              "Egypt                          1488\n",
              "Eswatini                       1284\n",
              "Ethiopia                       1447\n",
              "Ethiopia PDR                     39\n",
              "Gabon                          1245\n",
              "Gambia                         1168\n",
              "Ghana                          1354\n",
              "Guinea                         1410\n",
              "Guinea-Bissau                  1128\n",
              "Kenya                          1560\n",
              "Lesotho                        1150\n",
              "Liberia                        1206\n",
              "Madagascar                     1439\n",
              "Malawi                         1447\n",
              "Mali                           1293\n",
              "Mauritania                     1195\n",
              "Mauritius                      1378\n",
              "Morocco                        1393\n",
              "Mozambique                     1427\n",
              "Namibia                        1283\n",
              "Niger                          1403\n",
              "Nigeria                        1474\n",
              "Rwanda                         1426\n",
              "Sao Tome and Principe          1177\n",
              "Senegal                        1462\n",
              "Seychelles                       68\n",
              "Sierra Leone                   1242\n",
              "South Africa                   1399\n",
              "Sudan                          1316\n",
              "Sudan (former)                   53\n",
              "Togo                           1294\n",
              "Tunisia                        1338\n",
              "Uganda                         1458\n",
              "United Republic of Tanzania    1419\n",
              "Zambia                         1451\n",
              "Zimbabwe                       1393\n",
              "Name: Area, dtype: int64"
            ]
          },
          "metadata": {},
          "execution_count": 25
        }
      ]
    },
    {
      "cell_type": "code",
      "source": [
        "df.groupby('Area Code')['Area Code'].count()"
      ],
      "metadata": {
        "colab": {
          "base_uri": "https://localhost:8080/"
        },
        "id": "3JJcsFD9dMJN",
        "outputId": "ce870d66-b781-4518-92d9-76ffa1711458"
      },
      "execution_count": null,
      "outputs": [
        {
          "output_type": "execute_result",
          "data": {
            "text/plain": [
              "Area Code\n",
              "4      1313\n",
              "7      1424\n",
              "20     1378\n",
              "32     1460\n",
              "35     1260\n",
              "37     1344\n",
              "39     1343\n",
              "45       45\n",
              "46     1413\n",
              "53     1285\n",
              "59     1488\n",
              "62       39\n",
              "72     1095\n",
              "74     1245\n",
              "75     1168\n",
              "81     1354\n",
              "90     1410\n",
              "107    1467\n",
              "114    1560\n",
              "122    1150\n",
              "123    1206\n",
              "129    1439\n",
              "130    1447\n",
              "133    1293\n",
              "136    1195\n",
              "137    1378\n",
              "143    1393\n",
              "144    1427\n",
              "147    1283\n",
              "158    1403\n",
              "159    1474\n",
              "175    1128\n",
              "181    1393\n",
              "184    1426\n",
              "193    1177\n",
              "195    1462\n",
              "196      68\n",
              "197    1242\n",
              "202    1399\n",
              "206      53\n",
              "209    1284\n",
              "215    1419\n",
              "217    1294\n",
              "222    1338\n",
              "226    1458\n",
              "233    1409\n",
              "238    1447\n",
              "251    1451\n",
              "276    1316\n",
              "Name: Area Code, dtype: int64"
            ]
          },
          "metadata": {},
          "execution_count": 26
        }
      ]
    },
    {
      "cell_type": "code",
      "source": [],
      "metadata": {
        "id": "-JPnwCH9dMSM"
      },
      "execution_count": null,
      "outputs": []
    },
    {
      "cell_type": "code",
      "source": [
        "df.groupby('Y2017')['Y2017'].mean()"
      ],
      "metadata": {
        "colab": {
          "base_uri": "https://localhost:8080/"
        },
        "id": "gSnb_R1Sidzr",
        "outputId": "6632e3f6-7bd1-4108-bfb1-c5023855d9b7"
      },
      "execution_count": null,
      "outputs": [
        {
          "output_type": "execute_result",
          "data": {
            "text/plain": [
              "Y2017\n",
              "-1582.0       -1582.0\n",
              "-1200.0       -1200.0\n",
              "-1159.0       -1159.0\n",
              "-865.0         -865.0\n",
              "-860.0         -860.0\n",
              "               ...   \n",
              " 96443.0      96443.0\n",
              " 106400.0    106400.0\n",
              " 112625.0    112625.0\n",
              " 117702.0    117702.0\n",
              " 190873.0    190873.0\n",
              "Name: Y2017, Length: 4537, dtype: float64"
            ]
          },
          "metadata": {},
          "execution_count": 29
        }
      ]
    },
    {
      "cell_type": "code",
      "source": [
        "df.groupby('Element')[''].sum()"
      ],
      "metadata": {
        "colab": {
          "base_uri": "https://localhost:8080/"
        },
        "id": "xCbKxLqciec5",
        "outputId": "604b469f-243a-425d-ae98-bbda09e6324d"
      },
      "execution_count": null,
      "outputs": [
        {
          "output_type": "execute_result",
          "data": {
            "text/plain": [
              "Element\n",
              "Domestic supply quantity                  Domestic supply quantityDomestic supply quanti...\n",
              "Export Quantity                           Export QuantityExport QuantityExport QuantityE...\n",
              "Fat supply quantity (g/capita/day)        Fat supply quantity (g/capita/day)Fat supply q...\n",
              "Feed                                      FeedFeedFeedFeedFeedFeedFeedFeedFeedFeedFeedFe...\n",
              "Food                                      FoodFoodFoodFoodFoodFoodFoodFoodFoodFoodFoodFo...\n",
              "Food supply (kcal/capita/day)             Food supply (kcal/capita/day)Food supply (kcal...\n",
              "Food supply quantity (kg/capita/yr)       Food supply quantity (kg/capita/yr)Food supply...\n",
              "Import Quantity                           Import QuantityImport QuantityImport QuantityI...\n",
              "Losses                                    LossesLossesLossesLossesLossesLossesLossesLoss...\n",
              "Other uses (non-food)                     Other uses (non-food)Other uses (non-food)Othe...\n",
              "Processing                                ProcessingProcessingProcessingProcessingProces...\n",
              "Production                                ProductionProductionProductionProductionProduc...\n",
              "Protein supply quantity (g/capita/day)    Protein supply quantity (g/capita/day)Protein ...\n",
              "Residuals                                 ResidualsResidualsResidualsResidualsResidualsR...\n",
              "Seed                                      SeedSeedSeedSeedSeedSeedSeedSeedSeedSeedSeedSe...\n",
              "Stock Variation                           Stock VariationStock VariationStock VariationS...\n",
              "Total Population - Both sexes             Total Population - Both sexesTotal Population ...\n",
              "Tourist consumption                       Tourist consumptionTourist consumptionTourist ...\n",
              "Name: Element, dtype: object"
            ]
          },
          "metadata": {},
          "execution_count": 30
        }
      ]
    },
    {
      "cell_type": "code",
      "source": [
        "DataFrame.iloc[2]"
      ],
      "metadata": {
        "colab": {
          "base_uri": "https://localhost:8080/",
          "height": 166
        },
        "id": "hGiB60QnielA",
        "outputId": "321ecc2b-3ab4-4e48-f592-d7253a23edb0"
      },
      "execution_count": null,
      "outputs": [
        {
          "output_type": "error",
          "ename": "NameError",
          "evalue": "ignored",
          "traceback": [
            "\u001b[0;31m---------------------------------------------------------------------------\u001b[0m",
            "\u001b[0;31mNameError\u001b[0m                                 Traceback (most recent call last)",
            "\u001b[0;32m<ipython-input-31-dd3477201d81>\u001b[0m in \u001b[0;36m<module>\u001b[0;34m\u001b[0m\n\u001b[0;32m----> 1\u001b[0;31m \u001b[0mDataFrame\u001b[0m\u001b[0;34m.\u001b[0m \u001b[0miloc\u001b[0m\u001b[0;34m[\u001b[0m\u001b[0;36m2\u001b[0m\u001b[0;34m]\u001b[0m\u001b[0;34m\u001b[0m\u001b[0;34m\u001b[0m\u001b[0m\n\u001b[0m",
            "\u001b[0;31mNameError\u001b[0m: name 'DataFrame' is not defined"
          ]
        }
      ]
    },
    {
      "cell_type": "code",
      "source": [
        "df['Area'].nunique()"
      ],
      "metadata": {
        "colab": {
          "base_uri": "https://localhost:8080/"
        },
        "id": "hZEmE7Xqies-",
        "outputId": "bb0d7523-099a-4822-ea7b-b83fa868af5a"
      },
      "execution_count": null,
      "outputs": [
        {
          "output_type": "execute_result",
          "data": {
            "text/plain": [
              "49"
            ]
          },
          "metadata": {},
          "execution_count": 32
        }
      ]
    },
    {
      "cell_type": "code",
      "source": [
        "df.groupby('Y2017')['Area'].sum()"
      ],
      "metadata": {
        "colab": {
          "base_uri": "https://localhost:8080/"
        },
        "id": "cZydp7PZ3FkV",
        "outputId": "b1d8e722-baba-4d59-ec59-c35ce975e3f5"
      },
      "execution_count": null,
      "outputs": [
        {
          "output_type": "execute_result",
          "data": {
            "text/plain": [
              "Y2017\n",
              "-1582.0                       EgyptEgypt\n",
              "-1200.0                       Mozambique\n",
              "-1159.0                       Mozambique\n",
              "-865.0       United Republic of Tanzania\n",
              "-860.0       United Republic of Tanzania\n",
              "                        ...             \n",
              " 96443.0                           Egypt\n",
              " 106400.0                       Ethiopia\n",
              " 112625.0                        Nigeria\n",
              " 117702.0                        Nigeria\n",
              " 190873.0                        Nigeria\n",
              "Name: Area, Length: 4537, dtype: object"
            ]
          },
          "metadata": {},
          "execution_count": 33
        }
      ]
    },
    {
      "cell_type": "code",
      "source": [
        "df.groupby('Area')['Y2017'].sum()"
      ],
      "metadata": {
        "colab": {
          "base_uri": "https://localhost:8080/"
        },
        "id": "t02YWhJk3Ft4",
        "outputId": "996f2fea-bdf5-46cd-f475-20db0cd6a1ea"
      },
      "execution_count": null,
      "outputs": [
        {
          "output_type": "execute_result",
          "data": {
            "text/plain": [
              "Area\n",
              "Algeria                         325644.27\n",
              "Angola                          229159.57\n",
              "Benin                           124771.22\n",
              "Botswana                         22101.30\n",
              "Burkina Faso                    101855.07\n",
              "Cabo Verde                       14650.74\n",
              "Cameroon                        232030.43\n",
              "Central African Republic         29937.00\n",
              "Chad                             71594.68\n",
              "Comoros                             59.84\n",
              "Congo                            41181.68\n",
              "Côte d'Ivoire                   224599.01\n",
              "Djibouti                         22729.91\n",
              "Egypt                           866379.92\n",
              "Eswatini                         54343.33\n",
              "Ethiopia                        448683.76\n",
              "Ethiopia PDR                         0.00\n",
              "Gabon                            27979.64\n",
              "Gambia                           23154.18\n",
              "Ghana                           337599.06\n",
              "Guinea                           98138.87\n",
              "Guinea-Bissau                    19102.77\n",
              "Kenya                           264660.66\n",
              "Lesotho                          21267.96\n",
              "Liberia                          29342.20\n",
              "Madagascar                      131197.73\n",
              "Malawi                          181098.71\n",
              "Mali                            149928.33\n",
              "Mauritania                      156665.46\n",
              "Mauritius                        51114.83\n",
              "Morocco                         388495.36\n",
              "Mozambique                      161407.98\n",
              "Namibia                          29874.89\n",
              "Niger                           126707.58\n",
              "Nigeria                        1483268.23\n",
              "Rwanda                           73663.69\n",
              "Sao Tome and Principe            12662.63\n",
              "Senegal                          95681.15\n",
              "Seychelles                         442.34\n",
              "Sierra Leone                     55311.33\n",
              "South Africa                    517590.54\n",
              "Sudan                           239931.92\n",
              "Sudan (former)                       0.00\n",
              "Togo                             49841.88\n",
              "Tunisia                         124167.20\n",
              "Uganda                          213950.38\n",
              "United Republic of Tanzania     322616.85\n",
              "Zambia                          103223.77\n",
              "Zimbabwe                         75919.34\n",
              "Name: Y2017, dtype: float64"
            ]
          },
          "metadata": {},
          "execution_count": 34
        }
      ]
    },
    {
      "cell_type": "code",
      "source": [],
      "metadata": {
        "id": "M8Gk63uX6EFC"
      },
      "execution_count": null,
      "outputs": []
    },
    {
      "cell_type": "code",
      "source": [],
      "metadata": {
        "id": "9nMKHhMp6EtP"
      },
      "execution_count": null,
      "outputs": []
    },
    {
      "cell_type": "code",
      "source": [],
      "metadata": {
        "id": "Y5RO_AvK6E03"
      },
      "execution_count": null,
      "outputs": []
    },
    {
      "cell_type": "code",
      "source": [],
      "metadata": {
        "id": "FfXitkx96E8A"
      },
      "execution_count": null,
      "outputs": []
    },
    {
      "cell_type": "code",
      "source": [],
      "metadata": {
        "id": "Q98hfuGy6FCu"
      },
      "execution_count": null,
      "outputs": []
    },
    {
      "cell_type": "code",
      "source": [],
      "metadata": {
        "id": "ONdrh3-_6FI_"
      },
      "execution_count": null,
      "outputs": []
    },
    {
      "cell_type": "code",
      "source": [],
      "metadata": {
        "id": "ThMOeu4a3F2B"
      },
      "execution_count": null,
      "outputs": []
    },
    {
      "cell_type": "code",
      "source": [],
      "metadata": {
        "id": "3egreydG3F-A"
      },
      "execution_count": null,
      "outputs": []
    },
    {
      "cell_type": "code",
      "source": [],
      "metadata": {
        "id": "yQ4wZXYj3GGT"
      },
      "execution_count": null,
      "outputs": []
    },
    {
      "cell_type": "code",
      "source": [],
      "metadata": {
        "id": "NWsmDUnpdMZp"
      },
      "execution_count": null,
      "outputs": []
    }
  ]
}